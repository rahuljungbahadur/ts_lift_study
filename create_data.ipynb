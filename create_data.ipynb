{
 "cells": [
  {
   "cell_type": "code",
   "execution_count": 5,
   "metadata": {},
   "outputs": [
    {
     "ename": "ModuleNotFoundError",
     "evalue": "No module named 'seaborn'",
     "output_type": "error",
     "traceback": [
      "\u001b[1;31m---------------------------------------------------------------------------\u001b[0m",
      "\u001b[1;31mModuleNotFoundError\u001b[0m                       Traceback (most recent call last)",
      "Cell \u001b[1;32mIn[5], line 4\u001b[0m\n\u001b[0;32m      2\u001b[0m \u001b[39mimport\u001b[39;00m \u001b[39mnumpy\u001b[39;00m \u001b[39mas\u001b[39;00m \u001b[39mnp\u001b[39;00m\n\u001b[0;32m      3\u001b[0m \u001b[39mimport\u001b[39;00m \u001b[39mmatplotlib\u001b[39;00m\u001b[39m.\u001b[39;00m\u001b[39mpyplot\u001b[39;00m \u001b[39mas\u001b[39;00m \u001b[39mplt\u001b[39;00m\n\u001b[1;32m----> 4\u001b[0m \u001b[39mimport\u001b[39;00m \u001b[39mseaborn\u001b[39;00m \u001b[39mas\u001b[39;00m \u001b[39msns\u001b[39;00m\n",
      "\u001b[1;31mModuleNotFoundError\u001b[0m: No module named 'seaborn'"
     ]
    }
   ],
   "source": [
    "import pandas as pd\n",
    "import numpy as np\n",
    "import matplotlib.pyplot as plt\n",
    "import seaborn as sns"
   ]
  },
  {
   "attachments": {},
   "cell_type": "markdown",
   "metadata": {},
   "source": [
    "# Create DataFrame for lift study\n",
    "\n",
    "The data set should have people who have:\n",
    "1. Not registered for the emails\n",
    "2. Registered for the emails - all of these recieve the emails\n",
    "3. Opened the emails\n",
    "4. Clicked on the emailed links\n",
    "5. Bounced from the website\n",
    "\n",
    "Each user should have the following demographic attributes:\n",
    "1. hh_age = 3 buckets [20-35, 35-55, 55-75]\n",
    "2. hh_type = 3 buckets ['small', 'medium', 'large']\n",
    "\n",
    "Each user can be exposed to an ad campaign at any point after the ad campaign started\n",
    "Each user would have a sales data prior to the point he/she was exposed to the ad"
   ]
  },
  {
   "attachments": {},
   "cell_type": "markdown",
   "metadata": {},
   "source": []
  },
  {
   "cell_type": "code",
   "execution_count": 2,
   "metadata": {},
   "outputs": [],
   "source": [
    "y = np.sin(365/2*np.pi)"
   ]
  },
  {
   "cell_type": "code",
   "execution_count": 3,
   "metadata": {},
   "outputs": [
    {
     "ename": "NameError",
     "evalue": "name 'sns' is not defined",
     "output_type": "error",
     "traceback": [
      "\u001b[1;31m---------------------------------------------------------------------------\u001b[0m",
      "\u001b[1;31mNameError\u001b[0m                                 Traceback (most recent call last)",
      "Cell \u001b[1;32mIn[3], line 1\u001b[0m\n\u001b[1;32m----> 1\u001b[0m sns\u001b[39m.\u001b[39mplot(y)\n",
      "\u001b[1;31mNameError\u001b[0m: name 'sns' is not defined"
     ]
    }
   ],
   "source": [
    "sns.plot(y)"
   ]
  },
  {
   "cell_type": "code",
   "execution_count": null,
   "metadata": {},
   "outputs": [],
   "source": [
    "def create_data(n = 1000):\n",
    "    \"\"\"\n",
    "    Return a dataframe with the required params\n",
    "    \"\"\"\n",
    "    min_shopper_id = 1000\n",
    "    max_shopper_id = min_shopper_id + n\n",
    "\n",
    "    hh_age = {'20_30':1, '35_55':3, '55-75':2}\n",
    "    hh_type = {'small':1, 'medium':2, 'large':3}\n",
    "\n",
    "\n",
    "\n",
    "    shopper_df = pd.DataFrame(\n",
    "        {'shopper_id':np.random.randint(low = min_shopper_id, high= max_shopper_id).astype(str),}\n",
    "    )"
   ]
  }
 ],
 "metadata": {
  "kernelspec": {
   "display_name": "Python 3",
   "language": "python",
   "name": "python3"
  },
  "language_info": {
   "codemirror_mode": {
    "name": "ipython",
    "version": 3
   },
   "file_extension": ".py",
   "mimetype": "text/x-python",
   "name": "python",
   "nbconvert_exporter": "python",
   "pygments_lexer": "ipython3",
   "version": "3.10.8"
  },
  "orig_nbformat": 4,
  "vscode": {
   "interpreter": {
    "hash": "c5fc08409691f1fd34b9e5a2a3dbbe92360c612a0e0909b9f74d50c8d821a625"
   }
  }
 },
 "nbformat": 4,
 "nbformat_minor": 2
}
